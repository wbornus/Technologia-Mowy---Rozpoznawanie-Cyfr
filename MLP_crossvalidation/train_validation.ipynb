{
 "cells": [
  {
   "cell_type": "code",
   "execution_count": 1,
   "metadata": {},
   "outputs": [
    {
     "data": {
      "text/plain": [
       "<Figure size 640x480 with 1 Axes>"
      ]
     },
     "metadata": {},
     "output_type": "display_data"
    },
    {
     "data": {
      "text/plain": [
       "<Figure size 640x480 with 1 Axes>"
      ]
     },
     "metadata": {},
     "output_type": "display_data"
    }
   ],
   "source": [
    "import matplotlib.pyplot as plt\n",
    "import numpy as np\n",
    "import pickle\n",
    "with open('../mfcc_loader/mfcc_dict.pickle', 'rb') as handle: \n",
    "        mfcc_dict = pickle.load(handle)\n",
    "\n",
    "        \n",
    "plt.pcolormesh(mfcc_dict[0][0])\n",
    "plt.show()\n",
    "plt.pcolormesh(mfcc_dict[0][1])\n",
    "plt.show()"
   ]
  },
  {
   "cell_type": "code",
   "execution_count": 2,
   "metadata": {},
   "outputs": [],
   "source": [
    "# \"\"\"data preprocessing\"\"\"\n",
    "# X = []\n",
    "# y = []\n",
    "# for it_0 in range(len(mfcc_dict)):\n",
    "#     X_column = []\n",
    "#     y_column = []\n",
    "#     for it_1 in range(len(mfcc_dict[0])):\n",
    "#         tmp = np.array(mfcc_dict[it_0][it_1])\n",
    "#         tmp.resize((50, 13))\n",
    "#         X_column.append(tmp)\n",
    "#         y_column.append(it_1)\n",
    "#     X.append(X_column)\n",
    "#     y.append(y_column)\n",
    "# X = np.array(X)\n",
    "# y = np.array(y)"
   ]
  },
  {
   "cell_type": "code",
   "execution_count": 3,
   "metadata": {},
   "outputs": [
    {
     "name": "stdout",
     "output_type": "stream",
     "text": [
      "53.1\n",
      "9.004998611882181\n",
      "5\n"
     ]
    },
    {
     "data": {
      "image/png": "[encoded data removed]",
      "text/plain": [
       "<Figure size 432x288 with 1 Axes>"
      ]
     },
     "metadata": {
      "needs_background": "light"
     },
     "output_type": "display_data"
    },
    {
     "name": "stdout",
     "output_type": "stream",
     "text": [
      "(22, 10, 70, 13)\n"
     ]
    }
   ],
   "source": [
    "\"\"\"data preprocessing\"\"\"\n",
    "X = []\n",
    "y = []\n",
    "to_avg = []\n",
    "for it_0 in range(len(mfcc_dict)):\n",
    "    X_column = []\n",
    "    y_column = []\n",
    "    for it_1 in range(len(mfcc_dict[0])):\n",
    "        tmp = np.array(mfcc_dict[it_0][it_1])\n",
    "        to_avg.append(tmp.shape[0])\n",
    "        if tmp.shape[0] > 70:\n",
    "            tmp = tmp[:70, :]\n",
    "        else:\n",
    "            to_append = np.zeros((70 - tmp.shape[0], 13))\n",
    "            tmp = np.concatenate((tmp, to_append), axis=0)\n",
    "        X_column.append(tmp)\n",
    "        y_column.append(it_1)\n",
    "    X.append(X_column)\n",
    "    y.append(y_column)\n",
    "    \n",
    "X = np.array(X)\n",
    "y = np.array(y)\n",
    "print(np.mean(to_avg))\n",
    "print(np.std(to_avg))\n",
    "print(y[10, 5])\n",
    "plt.pcolormesh(X[10, 5])\n",
    "plt.show()\n",
    "print(X.shape)"
   ]
  },
  {
   "cell_type": "code",
   "execution_count": 4,
   "metadata": {},
   "outputs": [],
   "source": [
    "# plt.pcolormesh(X[21, 5])\n",
    "# print(y[21][5])"
   ]
  },
  {
   "cell_type": "code",
   "execution_count": 22,
   "metadata": {},
   "outputs": [
    {
     "name": "stdout",
     "output_type": "stream",
     "text": [
      "910\n"
     ]
    },
    {
     "name": "stderr",
     "output_type": "stream",
     "text": [
      "c:\\users\\wiktor\\appdata\\local\\programs\\python\\python36\\lib\\site-packages\\ipykernel_launcher.py:18: UserWarning: Update your `Model` call to the Keras 2 API: `Model(inputs=Tensor(\"in..., outputs=Tensor(\"de...)`\n"
     ]
    },
    {
     "name": "stdout",
     "output_type": "stream",
     "text": [
      "Model: \"model_5\"\n",
      "_________________________________________________________________\n",
      "Layer (type)                 Output Shape              Param #   \n",
      "=================================================================\n",
      "input_5 (InputLayer)         (None, 910)               0         \n",
      "_________________________________________________________________\n",
      "dense_17 (Dense)             (None, 128)               116608    \n",
      "_________________________________________________________________\n",
      "dropout_5 (Dropout)          (None, 128)               0         \n",
      "_________________________________________________________________\n",
      "dense_18 (Dense)             (None, 128)               16512     \n",
      "_________________________________________________________________\n",
      "dense_19 (Dense)             (None, 64)                8256      \n",
      "_________________________________________________________________\n",
      "dense_20 (Dense)             (None, 10)                650       \n",
      "=================================================================\n",
      "Total params: 142,026\n",
      "Trainable params: 142,026\n",
      "Non-trainable params: 0\n",
      "_________________________________________________________________\n"
     ]
    }
   ],
   "source": [
    "from keras.models import Sequential, Input, Model\n",
    "from keras.layers import Dense, Dropout, Flatten\n",
    "from keras.constraints import unit_norm\n",
    "from keras.optimizers import Adam\n",
    "\n",
    "input_shape = 70*13\n",
    "print(input_shape)\n",
    "\n",
    "\"\"\"MultiLayer Perceprton implementation\"\"\"\n",
    "\n",
    "model_dense_input = Input(shape=(input_shape,))\n",
    "model_dense = Dense(units=128, activation='relu', input_dim=input_shape,\n",
    "             kernel_constraint=unit_norm())(model_dense_input)\n",
    "model_dense = Dropout(0.5)(model_dense)\n",
    "model_dense = Dense(units=128, activation='relu')(model_dense)\n",
    "model_dense = Dense(units=64, activation='relu')(model_dense)\n",
    "model_dense = Dense(units=10, activation='softmax')(model_dense)\n",
    "model_dense = Model(inputs=model_dense_input, output=model_dense)\n",
    "\n",
    "model_dense.summary()\n",
    "\n",
    "adam = Adam(lr = 0.001)\n",
    "model_dense.compile(loss='categorical_crossentropy',\n",
    "             optimizer = adam, metrics=['accuracy'])\n",
    "model_dense.save('model_dense_untrained.h5')"
   ]
  },
  {
   "cell_type": "code",
   "execution_count": 23,
   "metadata": {},
   "outputs": [
    {
     "name": "stderr",
     "output_type": "stream",
     "text": [
      "\n",
      "0it [00:00, ?it/s]"
     ]
    },
    {
     "name": "stdout",
     "output_type": "stream",
     "text": [
      "Train on 170 samples, validate on 50 samples\n",
      "Epoch 1/20\n",
      "1/1 [==============================] - 3s 3s/step - loss: 11.0192 - acc: 0.1412 - val_loss: 3.9359 - val_acc: 0.6000\n",
      "Epoch 2/20\n",
      "1/1 [==============================] - 0s 391ms/step - loss: 7.1576 - acc: 0.3412 - val_loss: 1.9367 - val_acc: 0.7000\n",
      "Epoch 3/20\n",
      "1/1 [==============================] - 0s 351ms/step - loss: 4.1906 - acc: 0.5471 - val_loss: 1.4608 - val_acc: 0.9000\n",
      "Epoch 4/20\n",
      "1/1 [==============================] - 0s 346ms/step - loss: 2.4268 - acc: 0.6941 - val_loss: 1.1186 - val_acc: 0.9000\n",
      "Epoch 5/20\n",
      "1/1 [==============================] - 0s 337ms/step - loss: 1.6389 - acc: 0.7941 - val_loss: 0.7432 - val_acc: 0.9000\n",
      "Epoch 6/20\n",
      "1/1 [==============================] - 0s 356ms/step - loss: 1.9018 - acc: 0.7706 - val_loss: 0.3540 - val_acc: 0.9000\n",
      "Epoch 7/20\n",
      "1/1 [==============================] - 0s 348ms/step - loss: 1.3132 - acc: 0.8529 - val_loss: 0.0251 - val_acc: 1.0000\n",
      "Epoch 8/20\n",
      "1/1 [==============================] - 0s 332ms/step - loss: 0.5240 - acc: 0.8706 - val_loss: 0.0014 - val_acc: 1.0000\n",
      "Epoch 9/20\n",
      "1/1 [==============================] - 0s 346ms/step - loss: 0.2980 - acc: 0.9294 - val_loss: 7.3890e-05 - val_acc: 1.0000\n",
      "Epoch 10/20\n",
      "1/1 [==============================] - 0s 343ms/step - loss: 0.1489 - acc: 0.9471 - val_loss: 3.1893e-05 - val_acc: 1.0000\n",
      "Epoch 11/20\n",
      "1/1 [==============================] - 0s 351ms/step - loss: 0.1644 - acc: 0.9471 - val_loss: 2.4590e-05 - val_acc: 1.0000\n",
      "Epoch 12/20\n",
      "1/1 [==============================] - 0s 360ms/step - loss: 0.2993 - acc: 0.9529 - val_loss: 7.8740e-06 - val_acc: 1.0000\n",
      "Epoch 13/20\n",
      "1/1 [==============================] - 0s 379ms/step - loss: 0.2023 - acc: 0.9647 - val_loss: 2.0623e-06 - val_acc: 1.0000\n",
      "Epoch 14/20\n",
      "1/1 [==============================] - 0s 343ms/step - loss: 0.1034 - acc: 0.9529 - val_loss: 5.1856e-07 - val_acc: 1.0000\n",
      "Epoch 15/20\n",
      "1/1 [==============================] - 0s 390ms/step - loss: 0.1137 - acc: 0.9588 - val_loss: 1.6093e-07 - val_acc: 1.0000\n",
      "Epoch 16/20\n",
      "1/1 [==============================] - 0s 335ms/step - loss: 0.0685 - acc: 0.9765 - val_loss: 1.2517e-07 - val_acc: 1.0000\n",
      "Epoch 17/20\n",
      "1/1 [==============================] - 0s 357ms/step - loss: 0.1329 - acc: 0.9588 - val_loss: 1.1921e-07 - val_acc: 1.0000\n",
      "Epoch 18/20\n",
      "1/1 [==============================] - 0s 341ms/step - loss: 0.0775 - acc: 0.9882 - val_loss: 1.1921e-07 - val_acc: 1.0000\n",
      "Epoch 19/20\n",
      "1/1 [==============================] - 0s 348ms/step - loss: 0.0230 - acc: 0.9941 - val_loss: 1.1921e-07 - val_acc: 1.0000\n",
      "Epoch 20/20\n",
      "1/1 [==============================] - 0s 355ms/step - loss: 0.0818 - acc: 0.9765 - val_loss: 1.1921e-07 - val_acc: 1.0000\n",
      "50/50 [==============================] - ETA:  - 0s 500us/step\n"
     ]
    },
    {
     "name": "stderr",
     "output_type": "stream",
     "text": [
      "\n",
      "1it [00:12, 12.48s/it]"
     ]
    },
    {
     "name": "stdout",
     "output_type": "stream",
     "text": [
      "Train on 170 samples, validate on 50 samples\n",
      "Epoch 1/20\n",
      "1/1 [==============================] - 3s 3s/step - loss: 11.3529 - acc: 0.1235 - val_loss: 3.6121 - val_acc: 0.6000\n",
      "Epoch 2/20\n",
      "1/1 [==============================] - 0s 336ms/step - loss: 6.9307 - acc: 0.3353 - val_loss: 1.8475 - val_acc: 0.8000\n",
      "Epoch 3/20\n",
      "1/1 [==============================] - 0s 341ms/step - loss: 3.6947 - acc: 0.5706 - val_loss: 1.6139 - val_acc: 0.9000\n",
      "Epoch 4/20\n",
      "1/1 [==============================] - 0s 370ms/step - loss: 2.7036 - acc: 0.6353 - val_loss: 1.6123 - val_acc: 0.9000\n",
      "Epoch 5/20\n",
      "1/1 [==============================] - 0s 352ms/step - loss: 1.8543 - acc: 0.8118 - val_loss: 1.6124 - val_acc: 0.9000\n",
      "Epoch 6/20\n",
      "1/1 [==============================] - 0s 335ms/step - loss: 1.8204 - acc: 0.8059 - val_loss: 1.3498 - val_acc: 0.9000\n",
      "Epoch 7/20\n",
      "1/1 [==============================] - 0s 337ms/step - loss: 1.7867 - acc: 0.8353 - val_loss: 1.1540 - val_acc: 0.9000\n",
      "Epoch 8/20\n",
      "1/1 [==============================] - 0s 347ms/step - loss: 1.3635 - acc: 0.8765 - val_loss: 0.6454 - val_acc: 0.9000\n",
      "Epoch 9/20\n",
      "1/1 [==============================] - 0s 336ms/step - loss: 1.1807 - acc: 0.8647 - val_loss: 0.2437 - val_acc: 0.9000\n",
      "Epoch 10/20\n",
      "1/1 [==============================] - 0s 355ms/step - loss: 0.9757 - acc: 0.8412 - val_loss: 0.0113 - val_acc: 1.0000\n",
      "Epoch 11/20\n",
      "1/1 [==============================] - 0s 336ms/step - loss: 0.4453 - acc: 0.9059 - val_loss: 1.8938e-04 - val_acc: 1.0000\n",
      "Epoch 12/20\n",
      "1/1 [==============================] - 0s 319ms/step - loss: 0.2135 - acc: 0.9412 - val_loss: 3.1464e-05 - val_acc: 1.0000\n",
      "Epoch 13/20\n",
      "1/1 [==============================] - 0s 355ms/step - loss: 0.0954 - acc: 0.9706 - val_loss: 4.7565e-06 - val_acc: 1.0000\n",
      "Epoch 14/20\n",
      "1/1 [==============================] - 0s 336ms/step - loss: 0.1174 - acc: 0.9471 - val_loss: 1.3292e-06 - val_acc: 1.0000\n",
      "Epoch 15/20\n",
      "1/1 [==============================] - 0s 336ms/step - loss: 0.1759 - acc: 0.9706 - val_loss: 6.1393e-07 - val_acc: 1.0000\n",
      "Epoch 16/20\n",
      "1/1 [==============================] - 0s 346ms/step - loss: 0.1549 - acc: 0.9588 - val_loss: 2.8014e-07 - val_acc: 1.0000\n",
      "Epoch 17/20\n",
      "1/1 [==============================] - 0s 334ms/step - loss: 0.0538 - acc: 0.9765 - val_loss: 1.6093e-07 - val_acc: 1.0000\n",
      "Epoch 18/20\n",
      "1/1 [==============================] - 0s 338ms/step - loss: 0.1152 - acc: 0.9706 - val_loss: 1.3113e-07 - val_acc: 1.0000\n",
      "Epoch 19/20\n",
      "1/1 [==============================] - 0s 341ms/step - loss: 0.0894 - acc: 0.9765 - val_loss: 1.2517e-07 - val_acc: 1.0000\n",
      "Epoch 20/20\n",
      "1/1 [==============================] - 0s 346ms/step - loss: 0.0481 - acc: 0.9824 - val_loss: 1.1921e-07 - val_acc: 1.0000\n",
      "50/50 [==============================] - ETA:  - 0s 460us/step\n"
     ]
    },
    {
     "name": "stderr",
     "output_type": "stream",
     "text": [
      "\n",
      "2it [00:25, 12.50s/it]"
     ]
    },
    {
     "name": "stdout",
     "output_type": "stream",
     "text": [
      "Train on 180 samples, validate on 40 samples\n",
      "Epoch 1/20\n",
      "1/1 [==============================] - 3s 3s/step - loss: 10.9826 - acc: 0.1778 - val_loss: 3.4737 - val_acc: 0.6000\n",
      "Epoch 2/20\n",
      "1/1 [==============================] - 0s 328ms/step - loss: 6.4887 - acc: 0.3722 - val_loss: 1.8713 - val_acc: 0.8000\n",
      "Epoch 3/20\n",
      "1/1 [==============================] - 0s 336ms/step - loss: 3.9865 - acc: 0.5667 - val_loss: 1.6135 - val_acc: 0.9000\n",
      "Epoch 4/20\n",
      "1/1 [==============================] - 0s 321ms/step - loss: 2.5682 - acc: 0.7167 - val_loss: 1.4802 - val_acc: 0.9000\n",
      "Epoch 5/20\n",
      "1/1 [==============================] - 0s 314ms/step - loss: 2.3810 - acc: 0.7389 - val_loss: 0.9881 - val_acc: 0.9000\n",
      "Epoch 6/20\n",
      "1/1 [==============================] - 0s 329ms/step - loss: 1.5477 - acc: 0.8222 - val_loss: 0.2288 - val_acc: 0.9000\n",
      "Epoch 7/20\n",
      "1/1 [==============================] - 0s 325ms/step - loss: 1.1392 - acc: 0.8389 - val_loss: 0.0118 - val_acc: 1.0000\n",
      "Epoch 8/20\n",
      "1/1 [==============================] - 0s 334ms/step - loss: 0.3679 - acc: 0.8944 - val_loss: 4.6174e-04 - val_acc: 1.0000\n",
      "Epoch 9/20\n",
      "1/1 [==============================] - 0s 334ms/step - loss: 0.1887 - acc: 0.9278 - val_loss: 7.8409e-05 - val_acc: 1.0000\n",
      "Epoch 10/20\n",
      "1/1 [==============================] - 0s 322ms/step - loss: 0.2092 - acc: 0.9556 - val_loss: 6.5090e-06 - val_acc: 1.0000\n",
      "Epoch 11/20\n",
      "1/1 [==============================] - 0s 313ms/step - loss: 0.1568 - acc: 0.9444 - val_loss: 1.1086e-06 - val_acc: 1.0000\n",
      "Epoch 12/20\n",
      "1/1 [==============================] - 0s 334ms/step - loss: 0.1087 - acc: 0.9556 - val_loss: 1.8895e-06 - val_acc: 1.0000\n",
      "Epoch 13/20\n",
      "1/1 [==============================] - 0s 323ms/step - loss: 0.2132 - acc: 0.9500 - val_loss: 3.3975e-06 - val_acc: 1.0000\n",
      "Epoch 14/20\n",
      "1/1 [==============================] - 0s 332ms/step - loss: 0.2260 - acc: 0.9611 - val_loss: 6.2110e-06 - val_acc: 1.0000\n",
      "Epoch 15/20\n",
      "1/1 [==============================] - 0s 359ms/step - loss: 0.0719 - acc: 0.9833 - val_loss: 7.9575e-06 - val_acc: 1.0000\n",
      "Epoch 16/20\n",
      "1/1 [==============================] - 0s 325ms/step - loss: 0.1278 - acc: 0.9722 - val_loss: 8.8815e-06 - val_acc: 1.0000\n",
      "Epoch 17/20\n",
      "1/1 [==============================] - 0s 300ms/step - loss: 0.1102 - acc: 0.9611 - val_loss: 6.3779e-06 - val_acc: 1.0000\n",
      "Epoch 18/20\n",
      "1/1 [==============================] - 0s 329ms/step - loss: 0.0190 - acc: 0.9944 - val_loss: 4.5062e-06 - val_acc: 1.0000\n",
      "Epoch 19/20\n",
      "1/1 [==============================] - 0s 320ms/step - loss: 0.0386 - acc: 0.9833 - val_loss: 2.1696e-06 - val_acc: 1.0000\n",
      "Epoch 20/20\n",
      "1/1 [==============================] - 0s 323ms/step - loss: 0.1735 - acc: 0.9611 - val_loss: 5.1260e-07 - val_acc: 1.0000\n",
      "40/40 [==============================] - ETA:  - 0s 625us/step\n"
     ]
    },
    {
     "name": "stderr",
     "output_type": "stream",
     "text": [
      "\n",
      "3it [00:37, 12.42s/it]"
     ]
    },
    {
     "name": "stdout",
     "output_type": "stream",
     "text": [
      "Train on 180 samples, validate on 40 samples\n",
      "Epoch 1/20\n",
      "1/1 [==============================] - 3s 3s/step - loss: 11.3822 - acc: 0.1389 - val_loss: 3.7089 - val_acc: 0.5000\n",
      "Epoch 2/20\n",
      "1/1 [==============================] - 0s 325ms/step - loss: 7.3026 - acc: 0.3278 - val_loss: 2.1099 - val_acc: 0.7000\n",
      "Epoch 3/20\n",
      "1/1 [==============================] - 0s 315ms/step - loss: 4.5662 - acc: 0.5500 - val_loss: 1.6525 - val_acc: 0.9000\n",
      "Epoch 4/20\n",
      "1/1 [==============================] - 0s 343ms/step - loss: 3.3796 - acc: 0.5833 - val_loss: 1.6124 - val_acc: 0.9000\n",
      "Epoch 5/20\n",
      "1/1 [==============================] - 0s 338ms/step - loss: 2.1065 - acc: 0.8056 - val_loss: 1.6124 - val_acc: 0.9000\n",
      "Epoch 6/20\n",
      "1/1 [==============================] - 0s 324ms/step - loss: 1.8460 - acc: 0.8556 - val_loss: 1.6121 - val_acc: 0.9000\n",
      "Epoch 7/20\n",
      "1/1 [==============================] - 0s 342ms/step - loss: 1.8489 - acc: 0.8500 - val_loss: 1.6119 - val_acc: 0.9000\n",
      "Epoch 8/20\n",
      "1/1 [==============================] - 0s 333ms/step - loss: 1.7876 - acc: 0.8722 - val_loss: 1.6118 - val_acc: 0.9000\n",
      "Epoch 9/20\n",
      "1/1 [==============================] - 0s 334ms/step - loss: 1.7399 - acc: 0.8611 - val_loss: 1.6118 - val_acc: 0.9000\n",
      "Epoch 10/20\n",
      "1/1 [==============================] - 0s 328ms/step - loss: 1.6298 - acc: 0.8722 - val_loss: 1.3993 - val_acc: 0.9000\n",
      "Epoch 11/20\n",
      "1/1 [==============================] - 0s 327ms/step - loss: 1.7263 - acc: 0.8556 - val_loss: 0.9622 - val_acc: 0.9000\n",
      "Epoch 12/20\n",
      "1/1 [==============================] - 0s 343ms/step - loss: 1.2561 - acc: 0.8833 - val_loss: 0.3630 - val_acc: 0.9000\n",
      "Epoch 13/20\n",
      "1/1 [==============================] - 0s 344ms/step - loss: 0.7944 - acc: 0.8778 - val_loss: 0.0043 - val_acc: 1.0000\n",
      "Epoch 14/20\n",
      "1/1 [==============================] - 0s 332ms/step - loss: 0.6213 - acc: 0.8833 - val_loss: 1.2108e-04 - val_acc: 1.0000\n",
      "Epoch 15/20\n",
      "1/1 [==============================] - 0s 322ms/step - loss: 0.0762 - acc: 0.9778 - val_loss: 6.4017e-06 - val_acc: 1.0000\n",
      "Epoch 16/20\n",
      "1/1 [==============================] - 0s 330ms/step - loss: 0.1926 - acc: 0.9611 - val_loss: 2.1637e-06 - val_acc: 1.0000\n",
      "Epoch 17/20\n",
      "1/1 [==============================] - 0s 332ms/step - loss: 0.0888 - acc: 0.9722 - val_loss: 8.5477e-06 - val_acc: 1.0000\n",
      "Epoch 18/20\n",
      "1/1 [==============================] - 0s 384ms/step - loss: 0.0497 - acc: 0.9778 - val_loss: 1.2238e-05 - val_acc: 1.0000\n",
      "Epoch 19/20\n",
      "1/1 [==============================] - 0s 350ms/step - loss: 0.0711 - acc: 0.9722 - val_loss: 7.5820e-06 - val_acc: 1.0000\n",
      "Epoch 20/20\n",
      "1/1 [==============================] - 0s 327ms/step - loss: 0.0777 - acc: 0.9778 - val_loss: 4.0711e-06 - val_acc: 1.0000\n",
      "40/40 [==============================] - ETA:  - 0s 600us/step\n"
     ]
    },
    {
     "name": "stderr",
     "output_type": "stream",
     "text": [
      "\n",
      "4it [00:49, 12.49s/it]"
     ]
    },
    {
     "name": "stdout",
     "output_type": "stream",
     "text": [
      "Train on 180 samples, validate on 40 samples\n",
      "Epoch 1/20\n",
      "1/1 [==============================] - 3s 3s/step - loss: 10.9387 - acc: 0.1722 - val_loss: 4.1884 - val_acc: 0.5000\n",
      "Epoch 2/20\n",
      "1/1 [==============================] - 0s 367ms/step - loss: 7.1497 - acc: 0.3278 - val_loss: 2.7617 - val_acc: 0.7000\n",
      "Epoch 3/20\n",
      "1/1 [==============================] - 0s 345ms/step - loss: 4.5759 - acc: 0.5667 - val_loss: 2.0236 - val_acc: 0.8000\n",
      "Epoch 4/20\n",
      "1/1 [==============================] - 0s 337ms/step - loss: 3.0225 - acc: 0.6944 - val_loss: 1.2695 - val_acc: 0.9000\n",
      "Epoch 5/20\n",
      "1/1 [==============================] - 0s 341ms/step - loss: 2.2198 - acc: 0.7556 - val_loss: 0.6458 - val_acc: 0.9000\n",
      "Epoch 6/20\n",
      "1/1 [==============================] - 0s 344ms/step - loss: 1.5278 - acc: 0.7889 - val_loss: 0.1273 - val_acc: 0.9000\n",
      "Epoch 7/20\n",
      "1/1 [==============================] - 0s 327ms/step - loss: 0.8839 - acc: 0.8667 - val_loss: 5.1631e-04 - val_acc: 1.0000\n",
      "Epoch 8/20\n",
      "1/1 [==============================] - 0s 343ms/step - loss: 0.4544 - acc: 0.9000 - val_loss: 2.1364e-05 - val_acc: 1.0000\n",
      "Epoch 9/20\n",
      "1/1 [==============================] - 0s 339ms/step - loss: 0.2799 - acc: 0.9167 - val_loss: 2.7538e-06 - val_acc: 1.0000\n",
      "Epoch 10/20\n",
      "1/1 [==============================] - 0s 337ms/step - loss: 0.1540 - acc: 0.9611 - val_loss: 1.2934e-06 - val_acc: 1.0000\n",
      "Epoch 11/20\n",
      "1/1 [==============================] - 0s 361ms/step - loss: 0.1504 - acc: 0.9500 - val_loss: 1.2815e-06 - val_acc: 1.0000\n",
      "Epoch 12/20\n",
      "1/1 [==============================] - 0s 344ms/step - loss: 0.1814 - acc: 0.9500 - val_loss: 9.7752e-07 - val_acc: 1.0000\n",
      "Epoch 13/20\n",
      "1/1 [==============================] - 0s 335ms/step - loss: 0.1857 - acc: 0.9389 - val_loss: 4.8876e-07 - val_acc: 1.0000\n",
      "Epoch 14/20\n",
      "1/1 [==============================] - 0s 355ms/step - loss: 0.1750 - acc: 0.9500 - val_loss: 2.2650e-07 - val_acc: 1.0000\n",
      "Epoch 15/20\n",
      "1/1 [==============================] - 0s 333ms/step - loss: 0.1252 - acc: 0.9667 - val_loss: 1.6093e-07 - val_acc: 1.0000\n",
      "Epoch 16/20\n",
      "1/1 [==============================] - 0s 354ms/step - loss: 0.0319 - acc: 0.9889 - val_loss: 1.4305e-07 - val_acc: 1.0000\n",
      "Epoch 17/20\n",
      "1/1 [==============================] - 0s 345ms/step - loss: 0.1249 - acc: 0.9667 - val_loss: 1.1921e-07 - val_acc: 1.0000\n",
      "Epoch 18/20\n",
      "1/1 [==============================] - 0s 338ms/step - loss: 0.0324 - acc: 0.9889 - val_loss: 1.1921e-07 - val_acc: 1.0000\n",
      "Epoch 19/20\n",
      "1/1 [==============================] - 0s 343ms/step - loss: 0.0544 - acc: 0.9944 - val_loss: 1.1921e-07 - val_acc: 1.0000\n",
      "Epoch 20/20\n",
      "1/1 [==============================] - 0s 343ms/step - loss: 0.1123 - acc: 0.9778 - val_loss: 1.1921e-07 - val_acc: 1.0000\n",
      "40/40 [==============================] - ETA:  - 0s 475us/step\n"
     ]
    },
    {
     "name": "stderr",
     "output_type": "stream",
     "text": [
      "\n",
      "5it [01:02, 12.58s/it]"
     ]
    }
   ],
   "source": [
    "from sklearn.model_selection import KFold\n",
    "from keras.models import load_model\n",
    "from keras.utils import to_categorical\n",
    "from tqdm import tqdm\n",
    "x_valid = KFold(n_splits=5)\n",
    "acc_vector = []\n",
    "for train_idxs, test_idxs in tqdm(x_valid.split(X)):\n",
    "    \"\"\"loading untrained model\"\"\"\n",
    "    model = load_model('model_dense_untrained.h5')\n",
    "    \"\"\"importing data\"\"\"\n",
    "    X_train = X[train_idxs, :]\n",
    "    X_test = X[test_idxs, :]\n",
    "    y_train = y[train_idxs, :]\n",
    "    y_test = y[test_idxs, :]\n",
    "    \"\"\"reshaping to 2d tensor \n",
    "        axis0 - n0 of data example\n",
    "        axis1 - mfcc flatten to feed into FNN\"\"\"\n",
    "    X_train_flat = np.reshape(X_train, (X_train.shape[0]*X_train.shape[1], 70*13))\n",
    "    y_train = np.reshape(y_train, (y_train.shape[0]*y_train.shape[1]))\n",
    "    y_train_onehot = to_categorical(y_train, 10)\n",
    "    X_test_flat = np.reshape(X_test, (X_test.shape[0]*X_test.shape[1], 70*13))\n",
    "    y_test = np.reshape(y_test, (y_test.shape[0]*y_test.shape[1]))    \n",
    "    y_test_onehot = to_categorical(y_test, 10)\n",
    "    \n",
    "    model.fit(X_train_flat, y_train_onehot, epochs=20, steps_per_epoch=1, \n",
    "          validation_data=(X_test_flat, y_test_onehot), validation_steps=100)\n",
    "    score, acc = model.evaluate(X_test_flat, y_test_onehot, batch_size=10)\n",
    "    acc_vector.append(acc)"
   ]
  },
  {
   "cell_type": "code",
   "execution_count": 25,
   "metadata": {},
   "outputs": [
    {
     "data": {
      "text/plain": [
       "[<matplotlib.lines.Line2D at 0x1dc3d277978>]"
      ]
     },
     "execution_count": 25,
     "metadata": {},
     "output_type": "execute_result"
    },
    {
     "data": {
      "image/png": "[encoded data removed]",
      "text/plain": [
       "<Figure size 432x288 with 1 Axes>"
      ]
     },
     "metadata": {
      "needs_background": "light"
     },
     "output_type": "display_data"
    }
   ],
   "source": [
    "plt.plot(acc_vector)\n",
    "#plt.ylim(0,1)"
   ]
  }
 ],
 "metadata": {
  "kernelspec": {
   "display_name": "Python 3",
   "language": "python",
   "name": "python3"
  },
  "language_info": {
   "codemirror_mode": {
    "name": "ipython",
    "version": 3
   },
   "file_extension": ".py",
   "mimetype": "text/x-python",
   "name": "python",
   "nbconvert_exporter": "python",
   "pygments_lexer": "ipython3",
   "version": "3.6.8rc1"
  }
 },
 "nbformat": 4,
 "nbformat_minor": 2
}
